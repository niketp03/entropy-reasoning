{
 "cells": [
  {
   "cell_type": "markdown",
   "metadata": {},
   "source": [
    "# Load Required Libraries and Model\n",
    "Import necessary libraries and load the pretrained model from the saved checkpoint directory. Include error handling for model loading."
   ]
  },
  {
   "cell_type": "code",
   "execution_count": 17,
   "metadata": {},
   "outputs": [
    {
     "name": "stderr",
     "output_type": "stream",
     "text": [
      "Special tokens have been added in the vocabulary, make sure the associated word embeddings are fine-tuned or trained.\n"
     ]
    },
    {
     "name": "stdout",
     "output_type": "stream",
     "text": [
      "Model initialized with looping configuration:\n",
      "  - Total layers: 24\n",
      "  - Early layers: 0 to 7\n",
      "  - Loop layers: 8 to 12\n",
      "  - Late layers: 13 to 23\n",
      "  - Max loop count: 5\n",
      "Model and tokenizer loaded successfully.\n"
     ]
    }
   ],
   "source": [
    "# Import necessary libraries\n",
    "import os\n",
    "import torch\n",
    "from transformers import AutoTokenizer, AutoModelForCausalLM\n",
    "from accelerate import Accelerator\n",
    "from model import LayerLoopingModel\n",
    "from einops import rearrange\n",
    "\n",
    "# Initialize the accelerator for distributed inference if needed\n",
    "accelerator = Accelerator()\n",
    "\n",
    "# Define the path to the saved model checkpoint\n",
    "checkpoint_dir = \"./output/layer_looping_qwen/best_model\"\n",
    "\n",
    "# Load the tokenizer\n",
    "try:\n",
    "    tokenizer = AutoTokenizer.from_pretrained(checkpoint_dir)\n",
    "    if tokenizer.pad_token is None:\n",
    "        tokenizer.pad_token = tokenizer.eos_token\n",
    "except Exception as e:\n",
    "    raise RuntimeError(f\"Failed to load tokenizer from {checkpoint_dir}: {e}\")\n",
    "\n",
    "# Load the model\n",
    "try:\n",
    "    model = LayerLoopingModel(\n",
    "        model_name_or_path = checkpoint_dir,\n",
    "        device_map=\"auto\",\n",
    "        n=8,\n",
    "        m=12,\n",
    "        max_loop_count=5\n",
    "    )\n",
    "    model = accelerator.prepare(model)  # Prepare the model for distributed inference\n",
    "except Exception as e:\n",
    "    raise RuntimeError(f\"Failed to load model from {checkpoint_dir}: {e}\")\n",
    "\n",
    "# Confirm successful loading\n",
    "print(\"Model and tokenizer loaded successfully.\")"
   ]
  },
  {
   "cell_type": "markdown",
   "metadata": {},
   "source": [
    "# Setup Tokenizer and Model Configuration\n",
    "Initialize the tokenizer from the same checkpoint, configure generation parameters like max length, temperature, and top_p. Set up the model's layer looping parameters (n, m, max_loop_count)."
   ]
  },
  {
   "cell_type": "code",
   "execution_count": 2,
   "metadata": {},
   "outputs": [
    {
     "name": "stdout",
     "output_type": "stream",
     "text": [
      "Generation and layer looping configurations set up successfully.\n"
     ]
    }
   ],
   "source": [
    "# Set up generation parameters\n",
    "generation_config = {\n",
    "    \"max_length\": 128,  # Maximum length of the generated sequence\n",
    "    \"temperature\": 0.7,  # Sampling temperature\n",
    "    \"top_p\": 0.9,  # Nucleus sampling probability\n",
    "    \"do_sample\": True,  # Enable sampling\n",
    "    \"eos_token_id\": tokenizer.eos_token_id,  # End-of-sequence token\n",
    "}\n",
    "\n",
    "# Configure layer looping parameters\n",
    "layer_looping_config = {\n",
    "    \"n\": 8,  # Start layer index for looping\n",
    "    \"m\": 12,  # End layer index for looping\n",
    "    \"max_loop_count\": 5,  # Maximum number of times to loop\n",
    "}\n",
    "\n",
    "# Add layer looping parameters to the model's configuration\n",
    "if hasattr(model, \"config\"):\n",
    "    model.config.update(layer_looping_config)\n",
    "\n",
    "# Confirm configuration setup\n",
    "print(\"Generation and layer looping configurations set up successfully.\")"
   ]
  },
  {
   "cell_type": "code",
   "execution_count": null,
   "metadata": {},
   "outputs": [],
   "source": []
  },
  {
   "cell_type": "markdown",
   "metadata": {},
   "source": [
    "# Create Text Generation Function\n",
    "Implement a helper function that handles input preprocessing, model inference, and output post-processing. Include parameters for controlling the loop count and generation settings."
   ]
  },
  {
   "cell_type": "code",
   "execution_count": 3,
   "metadata": {},
   "outputs": [],
   "source": [
    "# Define a function for text generation\n",
    "def generate_text(prompt, loop_count=5, max_length=None, temperature=None, top_p=None):\n",
    "    \"\"\"\n",
    "    Generate text using the pretrained layer looping transformer model.\n",
    "\n",
    "    Args:\n",
    "        prompt (str): The input text prompt for generation.\n",
    "        loop_count (int): Number of times to loop through the specified layers.\n",
    "        max_length (int, optional): Maximum length of the generated sequence. Defaults to the value in generation_config.\n",
    "        temperature (float, optional): Sampling temperature. Defaults to the value in generation_config.\n",
    "        top_p (float, optional): Nucleus sampling probability. Defaults to the value in generation_config.\n",
    "\n",
    "    Returns:\n",
    "        str: The generated text.\n",
    "    \"\"\"\n",
    "    # Update generation parameters with provided values or defaults\n",
    "    gen_params = generation_config.copy()\n",
    "    if max_length is not None:\n",
    "        gen_params[\"max_length\"] = max_length\n",
    "    if temperature is not None:\n",
    "        gen_params[\"temperature\"] = temperature\n",
    "    if top_p is not None:\n",
    "        gen_params[\"top_p\"] = top_p\n",
    "\n",
    "    # Tokenize the input prompt\n",
    "    inputs = tokenizer(prompt, return_tensors=\"pt\", padding=True, truncation=True)\n",
    "    input_ids = inputs[\"input_ids\"].to(accelerator.device)\n",
    "    attention_mask = inputs[\"attention_mask\"].to(accelerator.device)\n",
    "\n",
    "    # Generate text\n",
    "    with torch.no_grad():\n",
    "        outputs, hidden_states = model.sample_generation(\n",
    "            input_ids=input_ids,\n",
    "            return_matrix = True,\n",
    "            attention_mask=attention_mask,\n",
    "            k_value = loop_count,\n",
    "            **gen_params\n",
    "        )\n",
    "        \n",
    "\n",
    "    # Decode the generated tokens\n",
    "    generated_text = tokenizer.decode(outputs[0], skip_special_tokens=True)\n",
    "\n",
    "    return generated_text, hidden_states"
   ]
  },
  {
   "cell_type": "code",
   "execution_count": 36,
   "metadata": {},
   "outputs": [
    {
     "name": "stdout",
     "output_type": "stream",
     "text": [
      "return_matrix: True\n",
      "How many 'r' are in strawberry? - Answers\\nMath and Arithmetic\\nCalculus\\nCalculus\\nCalculus\\nCalculus\\nCalculus\\nCalculus\\nCalculus\\nCalculus\\nCalculus\\nCalculus\\nCalculus\\nCalculus\\nCalculus\\nCalculus\\nCalculus\\nCalculus\\nCalculus\\nCalculus\\nCalculus\\nCalculus\\nCalculus\\nCalculus\\nCalculus\\nCalculus\\nCalculus\\nCalculus\\nCalculus\\nCalculus\\nCalculus\\nCalculus\\nCalculus\\nCalculus\\nCalculus\\nCalculus\\nCalculus\\nCalculus\\nCalculus\\nCal\n",
      "119\n",
      "return_matrix: True\n",
      "How many 'r' are in strawberry? A simple and long adventure of caSave Naulti\n",
      "\n",
      "A simple and long\n",
      "\n",
      "A) 100000000_1c\n",
      "100001-1b\n",
      "10101-0pre-mid\n",
      "10101-pp_b\n",
      "1011-0_+120001-2c\n",
      "1011-pp-rrs2011\n",
      "1011-pp-pp-pp-pp-pp-pp-pp-pp-SS-\n",
      "119\n"
     ]
    }
   ],
   "source": [
    "out, hidden1 = generate_text(\"How many 'r' are in strawberry?\", loop_count=1, max_length=128)\n",
    "print(out)\n",
    "print(len(hidden1))\n",
    "\n",
    "out, hidden2 = generate_text(\"How many 'r' are in strawberry?\", loop_count=10, max_length=128)\n",
    "print(out)\n",
    "print(len(hidden2))"
   ]
  },
  {
   "cell_type": "code",
   "execution_count": 39,
   "metadata": {},
   "outputs": [],
   "source": [
    "entropies1 = {}\n",
    "hidden = hidden1\n",
    "for i in range(len(hidden)):\n",
    "    mat = hidden[i][0][1] # (1, len, emb_dim)\n",
    "    mat = mat.squeeze(0).to(torch.float32) # (len, emb_dim)\n",
    "    #Compute SVD of mat\n",
    "    u, s, v = torch.svd(mat)\n",
    "    # Compute the proportion of each singular value\n",
    "    s_sum = torch.sum(s)\n",
    "    s_prop = s / s_sum\n",
    "\n",
    "    # Compute Shannon entropy of the singular value distribution\n",
    "    entropy = -torch.sum(s_prop * torch.log2(s_prop + 1e-10))\n",
    "    entropies1[i] = entropy.item()\n",
    "\n",
    "entropies2 = {}\n",
    "hidden = hidden2    \n",
    "for i in range(len(hidden)):\n",
    "    mat = hidden[i][0][1] # (1, len, emb_dim)\n",
    "    mat = mat.squeeze(0).to(torch.float32) # (len, emb_dim)\n",
    "    #Compute SVD of mat\n",
    "    u, s, v = torch.svd(mat)\n",
    "    # Compute the proportion of each singular value\n",
    "    s_sum = torch.sum(s)\n",
    "    s_prop = s / s_sum\n",
    "\n",
    "    # Compute Shannon entropy of the singular value distribution\n",
    "    entropy = -torch.sum(s_prop * torch.log2(s_prop + 1e-10))\n",
    "    entropies2[i] = entropy.item()"
   ]
  },
  {
   "cell_type": "code",
   "execution_count": 45,
   "metadata": {},
   "outputs": [
    {
     "data": {
      "image/png": "[encoded data removed]",
      "text/plain": [
       "<Figure size 864x432 with 1 Axes>"
      ]
     },
     "metadata": {
      "needs_background": "light"
     },
     "output_type": "display_data"
    }
   ],
   "source": [
    "import matplotlib.pyplot as plt\n",
    "\n",
    "# Plot the entropy values\n",
    "plt.figure(figsize=(12, 6))\n",
    "plt.plot(list(entropies1.keys()), list(entropies1.values()), label='Loop Count 1')\n",
    "plt.plot(list(entropies2.keys()), list(entropies2.values()), label='Loop Count 10')\n",
    "plt.xlabel('Sampling Index')\n",
    "plt.ylabel('Entropy')\n",
    "plt.title('Matrix Entropy of Hidden States by Layer')\n",
    "plt.legend()\n",
    "plt.grid(True)\n",
    "plt.show()"
   ]
  }
 ],
 "metadata": {
  "kernelspec": {
   "display_name": "Python 3 (ipykernel)",
   "language": "python",
   "name": "python3"
  },
  "language_info": {
   "codemirror_mode": {
    "name": "ipython",
    "version": 3
   },
   "file_extension": ".py",
   "mimetype": "text/x-python",
   "name": "python",
   "nbconvert_exporter": "python",
   "pygments_lexer": "ipython3",
   "version": "3.10.12"
  }
 },
 "nbformat": 4,
 "nbformat_minor": 2
}
